{
 "cells": [
  {
   "cell_type": "markdown",
   "id": "2e71ced3",
   "metadata": {},
   "source": [
    "#### 1. To what does a relative path refer?\n",
    "\n",
    "Ans : A relative file path is interpreted from the perspective your current working directory. "
   ]
  },
  {
   "cell_type": "markdown",
   "id": "9227be3b",
   "metadata": {},
   "source": [
    "#### 2. What does an absolute path start with your operating system?\n",
    "\n",
    "Ans : Absolute paths start with the root folder, such as / or C:\\."
   ]
  },
  {
   "cell_type": "markdown",
   "id": "eb1de38d",
   "metadata": {},
   "source": [
    "#### 3. What do the functions os.getcwd() and os.chdir() do?\n",
    "\n",
    "Ans : The os.getcwd() function returns the current working directory. The os.chdir() function changes the current working directory."
   ]
  },
  {
   "cell_type": "markdown",
   "id": "a80bf831",
   "metadata": {},
   "source": [
    "#### 4. What are the . and .. folders?\n",
    "\n",
    "Ans : The . folder is the current folder, and .. is the parent folder."
   ]
  },
  {
   "cell_type": "markdown",
   "id": "6eb49a95",
   "metadata": {},
   "source": [
    "#### 5. In C:\\bacon\\eggs\\spam.txt, which part is the dir name, and which part is the base name?\n",
    "    \n",
    "Ans : C:\\bacon\\eggs is the dir name, while spam. txt is the base name."
   ]
  },
  {
   "cell_type": "markdown",
   "id": "7dbfe592",
   "metadata": {},
   "source": [
    "#### 6. What are the three “mode” arguments that can be passed to the open() function?\n",
    "\n",
    "Ans : The string 'r' for read mode, 'w' for write mode, and 'a' for append mode"
   ]
  },
  {
   "cell_type": "code",
   "execution_count": 5,
   "id": "75a41d0f",
   "metadata": {},
   "outputs": [],
   "source": [
    "#file_example = open (\"F:\\\\Directory\\\\AnotherDirectory\\\\tests\\\\TestingText.txt\",\"a\")\n",
    "#file_example = open (\"F:\\\\Directory\\\\AnotherDirectory\\\\tests\\\\TestingText.txt\", \"w\")\n",
    "#file_example = open (\"F:\\\\Directory\\\\AnotherDirectory\\\\tests\\\\TestingText.txt\", \"r\")"
   ]
  },
  {
   "cell_type": "markdown",
   "id": "49f3f8de",
   "metadata": {},
   "source": [
    "#### 7. What happens if an existing file is opened in write mode?\n",
    "\n",
    "Ans :  An existing file opened in write mode is erased and completely overwritten."
   ]
  },
  {
   "cell_type": "markdown",
   "id": "05c790d6",
   "metadata": {},
   "source": [
    "#### 8. How do you tell the difference between read() and readlines()?\n",
    "\n",
    "Ans : The read() method returns the file's entire contents as a single string value. The readlines() method returns a list of strings, where each string is a line from the file's contents."
   ]
  },
  {
   "cell_type": "markdown",
   "id": "bf0f264b",
   "metadata": {},
   "source": [
    "#### 9. What data structure does a shelf value resemble?\n",
    "\n",
    "Ans : A shelf value resembles a dictionary value; it has keys and values, along with keys() and values() methods that work similarly to the dictionary methods of the same names."
   ]
  },
  {
   "cell_type": "code",
   "execution_count": null,
   "id": "069abaeb",
   "metadata": {},
   "outputs": [],
   "source": []
  }
 ],
 "metadata": {
  "kernelspec": {
   "display_name": "Python 3 (ipykernel)",
   "language": "python",
   "name": "python3"
  },
  "language_info": {
   "codemirror_mode": {
    "name": "ipython",
    "version": 3
   },
   "file_extension": ".py",
   "mimetype": "text/x-python",
   "name": "python",
   "nbconvert_exporter": "python",
   "pygments_lexer": "ipython3",
   "version": "3.9.12"
  }
 },
 "nbformat": 4,
 "nbformat_minor": 5
}
